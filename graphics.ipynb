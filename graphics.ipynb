{
 "cells": [
  {
   "cell_type": "markdown",
   "metadata": {},
   "source": [
    "# line"
   ]
  },
  {
   "cell_type": "code",
   "execution_count": 8,
   "metadata": {},
   "outputs": [
    {
     "ename": "SystemExit",
     "evalue": "",
     "output_type": "error",
     "traceback": [
      "An exception has occurred, use %tb to see the full traceback.\n",
      "\u001b[1;31mSystemExit\u001b[0m\n"
     ]
    }
   ],
   "source": [
    "import pygame\n",
    "import sys\n",
    "\n",
    "# Initialize Pygame\n",
    "pygame.init()\n",
    "\n",
    "# Set up the display\n",
    "WIDTH, HEIGHT = 800, 600\n",
    "screen = pygame.display.set_mode((WIDTH, HEIGHT))\n",
    "pygame.display.set_caption(\"DDA Line Drawing Algorithm\")\n",
    "\n",
    "# Colors\n",
    "BLACK = (0, 0, 0)\n",
    "WHITE = (255, 255, 255)\n",
    "\n",
    "# Function to draw a line using DDA algorithm\n",
    "def draw_line_dda(x1, y1, x2, y2):\n",
    "    dx = x2 - x1\n",
    "    dy = y2 - y1\n",
    "    \n",
    "    # Calculate the number of steps\n",
    "    steps = abs(dx) if abs(dx) > abs(dy) else abs(dy)\n",
    "    \n",
    "    # Calculate increment in x & y for each step\n",
    "    x_increment = dx / steps\n",
    "    y_increment = dy / steps\n",
    "    \n",
    "    # Starting point\n",
    "    x = x1\n",
    "    y = y1\n",
    "    \n",
    "    # Draw pixels at each step\n",
    "    for i in range(steps + 1):\n",
    "        screen.set_at((round(x), round(y)), WHITE)\n",
    "        x += x_increment\n",
    "        y += y_increment\n",
    "\n",
    "# Main loop\n",
    "def main():\n",
    "    while True:\n",
    "        for event in pygame.event.get():\n",
    "            if event.type == pygame.QUIT:\n",
    "                pygame.quit()\n",
    "                sys.exit()\n",
    "\n",
    "        # Clear the screen\n",
    "        screen.fill(BLACK)\n",
    "\n",
    "        # Draw lines using DDA algorithm\n",
    "        draw_line_dda(100, 300, 300, 100)\n",
    "\n",
    "        # Update the display\n",
    "        pygame.display.flip()\n",
    "\n",
    "# Entry point of the program\n",
    "if __name__ == \"__main__\":\n",
    "    main()\n"
   ]
  },
  {
   "cell_type": "markdown",
   "metadata": {},
   "source": [
    "# home"
   ]
  },
  {
   "cell_type": "code",
   "execution_count": 7,
   "metadata": {},
   "outputs": [
    {
     "ename": "SystemExit",
     "evalue": "",
     "output_type": "error",
     "traceback": [
      "An exception has occurred, use %tb to see the full traceback.\n",
      "\u001b[1;31mSystemExit\u001b[0m\n"
     ]
    },
    {
     "name": "stderr",
     "output_type": "stream",
     "text": [
      "C:\\Users\\sujan\\AppData\\Roaming\\Python\\Python313\\site-packages\\IPython\\core\\interactiveshell.py:3585: UserWarning: To exit: use 'exit', 'quit', or Ctrl-D.\n",
      "  warn(\"To exit: use 'exit', 'quit', or Ctrl-D.\", stacklevel=1)\n"
     ]
    }
   ],
   "source": [
    "import pygame\n",
    "import sys\n",
    "\n",
    "# Initialize Pygame\n",
    "pygame.init()\n",
    "\n",
    "# Set up the display\n",
    "WIDTH, HEIGHT = 800, 600\n",
    "screen = pygame.display.set_mode((WIDTH, HEIGHT))\n",
    "pygame.display.set_caption(\"DDA Line Drawing Algorithm\")\n",
    "\n",
    "# Colors\n",
    "BLACK = (0, 0, 0)\n",
    "WHITE = (255, 255, 255)\n",
    "\n",
    "# Function to draw a line using DDA algorithm\n",
    "def draw_line_dda(x1, y1, x2, y2):\n",
    "    dx = x2 - x1\n",
    "    dy = y2 - y1\n",
    "    \n",
    "    # Calculate the number of steps\n",
    "    steps = abs(dx) if abs(dx) > abs(dy) else abs(dy)\n",
    "    \n",
    "    # Calculate increment in x & y for each step\n",
    "    x_increment = dx / steps\n",
    "    y_increment = dy / steps\n",
    "    \n",
    "    # Starting point\n",
    "    x = x1\n",
    "    y = y1\n",
    "    \n",
    "    # Draw pixels at each step\n",
    "    for i in range(steps+1):\n",
    "        screen.set_at((round(x), round(y)), WHITE)\n",
    "        x += x_increment\n",
    "        y += y_increment\n",
    "\n",
    "# Main loop\n",
    "def main():\n",
    "    while True:\n",
    "        for event in pygame.event.get():\n",
    "            if event.type == pygame.QUIT:\n",
    "                pygame.quit()\n",
    "                sys.exit()\n",
    "\n",
    "        # Clear the screen\n",
    "        screen.fill(BLACK)\n",
    "\n",
    "        # Draw lines using DDA algorithm\n",
    "        draw_line_dda(100, 300, 300, 100)\n",
    "        draw_line_dda(300, 100, 500, 300)\n",
    "        draw_line_dda(100, 300, 100, 500)\n",
    "        draw_line_dda(500, 300, 500, 500)\n",
    "        draw_line_dda(100, 500, 500, 500)\n",
    "        draw_line_dda(100, 300, 500, 100)\n",
    "        draw_line_dda(250, 400, 250, 500)\n",
    "        draw_line_dda(250, 400, 350, 400)\n",
    "        draw_line_dda(350, 400, 350, 500)\n",
    "\n",
    "        # Update the display\n",
    "        pygame.display.flip()\n",
    "\n",
    "# Entry point of the program\n",
    "if __name__ == \"__main__\":\n",
    "    main()\n",
    "\n"
   ]
  }
 ],
 "metadata": {
  "kernelspec": {
   "display_name": "Python 3",
   "language": "python",
   "name": "python3"
  },
  "language_info": {
   "codemirror_mode": {
    "name": "ipython",
    "version": 3
   },
   "file_extension": ".py",
   "mimetype": "text/x-python",
   "name": "python",
   "nbconvert_exporter": "python",
   "pygments_lexer": "ipython3",
   "version": "3.13.1"
  }
 },
 "nbformat": 4,
 "nbformat_minor": 2
}
