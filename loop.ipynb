{
 "cells": [
  {
   "cell_type": "markdown",
   "metadata": {},
   "source": [
    "# Questions\n",
    "\n",
    "1. Write a program to generate the Fibonacci sequence up to n terms using a while loop and a function.\n"
   ]
  },
  {
   "cell_type": "code",
   "execution_count": 2,
   "metadata": {},
   "outputs": [
    {
     "name": "stdout",
     "output_type": "stream",
     "text": [
      "The first 5 terms of the Fibonacci sequence are:\n",
      "0 1 1 2 3 "
     ]
    }
   ],
   "source": [
    "def fibonacci(n):\n",
    "    pre_num = 0\n",
    "    nex_num = 1\n",
    "    count = 0\n",
    "\n",
    "    while count < n:\n",
    "        print(pre_num, end=\" \")\n",
    "        temp = pre_num\n",
    "        pre_num = nex_num\n",
    "        nex_num = temp + pre_num\n",
    "        count += 1\n",
    "# Input for the number of terms\n",
    "n = int(input(\"Enter the number of terms: \"))\n",
    "while n <= 0:\n",
    "    print(\"Please enter a positive integer.\")\n",
    "    n = int(input(\"Enter the number of terms: \"))\n",
    "\n",
    "print(f\"The first {n} terms of the Fibonacci sequence are:\")\n",
    "fibonacci(n)"
   ]
  },
  {
   "cell_type": "markdown",
   "metadata": {},
   "source": [
    "# 2. Guess the Number Game\n",
    "Problem Statement:\n",
    "\n",
    "Create a number-guessing game where:\n",
    "\n",
    "1. The program randomly selects a number between 1 to 100.\n",
    "\n",
    "\n",
    "2. The user has to guess the number. The program provides hints (too high, too low) after each guess.\n",
    "\n",
    "\n",
    "3. The game ends when the user guesses the correct number or exceeds 10 attempts.\n",
    "\n",
    "\n",
    "\n",
    "\n",
    "Requirements:\n",
    "\n",
    "Use import random.\n",
    "\n",
    "Limit attempts to 10.\n",
    "You sent\n"
   ]
  },
  {
   "cell_type": "code",
   "execution_count": null,
   "metadata": {},
   "outputs": [],
   "source": [
    "def Guess_num():\n",
    "    import random\n",
    "    n = random.randint(1, 100)\n",
    "    count = 1\n",
    "\n",
    "    while count < 11:\n",
    "        print()\n",
    "        num = int(input(\"Enter your guess: \"))\n",
    "\n",
    "        if num < n:\n",
    "            print(\"Hints: Too low.\")\n",
    "        elif num > n:\n",
    "            print(\"Hints: Too high.\")\n",
    "        else:\n",
    "            print()\n",
    "            print(\"CONGRATULATIONS! YOU WON.\")\n",
    "            print(f\"Your Guess is Correct. The number is {n}\")\n",
    "            break\n",
    "\n",
    "        print(f\"Attempts: {count}, Attempts left: {10 - count}\")\n",
    "        if count == 10:\n",
    "            print()\n",
    "            print(\"YOU LOST!\")\n",
    "            print(f\"The Correct Number is: {n}\")\n",
    "        count += 1\n",
    "\n",
    "print(\"=== GUESS THE NUMBER ===\")\n",
    "Guess_num()"
   ]
  }
 ],
 "metadata": {
  "kernelspec": {
   "display_name": "Python 3",
   "language": "python",
   "name": "python3"
  },
  "language_info": {
   "codemirror_mode": {
    "name": "ipython",
    "version": 3
   },
   "file_extension": ".py",
   "mimetype": "text/x-python",
   "name": "python",
   "nbconvert_exporter": "python",
   "pygments_lexer": "ipython3",
   "version": "3.13.1"
  }
 },
 "nbformat": 4,
 "nbformat_minor": 2
}
